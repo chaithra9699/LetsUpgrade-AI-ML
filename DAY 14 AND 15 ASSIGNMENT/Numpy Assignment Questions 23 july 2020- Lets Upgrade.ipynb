{
 "cells": [
  {
   "cell_type": "markdown",
   "metadata": {},
   "source": [
    "# 1. Create a 3x3x3 array with random values "
   ]
  },
  {
   "cell_type": "code",
   "execution_count": 43,
   "metadata": {},
   "outputs": [
    {
     "name": "stdout",
     "output_type": "stream",
     "text": [
      "[2.30594353 1.94223438 2.29805166]\n"
     ]
    }
   ],
   "source": [
    "import numpy as np\n",
    "x=np.random.uniform((3,3,3))\n",
    "print(x)"
   ]
  },
  {
   "cell_type": "markdown",
   "metadata": {},
   "source": [
    "# 2.Create a 5x5 matrix with values 1,2,3,4 just below the diagonal"
   ]
  },
  {
   "cell_type": "code",
   "execution_count": 44,
   "metadata": {},
   "outputs": [
    {
     "name": "stdout",
     "output_type": "stream",
     "text": [
      "[[0 0 0 0 0]\n",
      " [1 0 0 0 0]\n",
      " [0 2 0 0 0]\n",
      " [0 0 3 0 0]\n",
      " [0 0 0 4 0]]\n"
     ]
    }
   ],
   "source": [
    "a=np.diag(1+np.arange(4),k = -1)\n",
    "print(a)"
   ]
  },
  {
   "cell_type": "markdown",
   "metadata": {},
   "source": [
    "# 3.Create a 8x8 matrix and fill it with a checkerboard pattern"
   ]
  },
  {
   "cell_type": "code",
   "execution_count": 45,
   "metadata": {},
   "outputs": [
    {
     "name": "stdout",
     "output_type": "stream",
     "text": [
      "[[0 1 0 1 0 1 0 1]\n",
      " [1 0 1 0 1 0 1 0]\n",
      " [0 1 0 1 0 1 0 1]\n",
      " [1 0 1 0 1 0 1 0]\n",
      " [0 1 0 1 0 1 0 1]\n",
      " [1 0 1 0 1 0 1 0]\n",
      " [0 1 0 1 0 1 0 1]\n",
      " [1 0 1 0 1 0 1 0]]\n"
     ]
    }
   ],
   "source": [
    "b=np.zeros((8,8),dtype=int)\n",
    "b[1::2,::2]=1\n",
    "b[::2,1::2]=1\n",
    "print(b)"
   ]
  },
  {
   "cell_type": "markdown",
   "metadata": {},
   "source": [
    "# 4. Normalize a 5x5 random matrix"
   ]
  },
  {
   "cell_type": "code",
   "execution_count": 46,
   "metadata": {},
   "outputs": [
    {
     "name": "stdout",
     "output_type": "stream",
     "text": [
      "[[0.09173153 0.00134208 0.89056437 0.5978844  0.2728896 ]\n",
      " [0.37303026 0.11737473 0.         0.20139049 0.2481507 ]\n",
      " [0.10122182 0.05210123 0.18210117 0.53057483 0.8351759 ]\n",
      " [0.25543585 0.30053384 0.6314543  0.10095495 0.80272858]\n",
      " [0.7953471  0.1531188  1.         0.33801664 0.99662939]]\n"
     ]
    }
   ],
   "source": [
    "z=np.random.random((5,5))\n",
    "zmax,zmin=z.max(),z.min()\n",
    "z=(z-zmin)/(zmax-zmin)\n",
    "print(z)"
   ]
  },
  {
   "cell_type": "markdown",
   "metadata": {},
   "source": [
    "# 5.  How to find common values between two arrays?"
   ]
  },
  {
   "cell_type": "code",
   "execution_count": 47,
   "metadata": {},
   "outputs": [
    {
     "name": "stdout",
     "output_type": "stream",
     "text": [
      "array1: [11 21 27  9  7 18]\n",
      "array2: [11 65 21 90 17  4]\n",
      "common values between two arrays:\n",
      "[11 21]\n"
     ]
    }
   ],
   "source": [
    "array1=np.array([11,21,27,9,7,18])\n",
    "print(\"array1:\",array1)\n",
    "array2=np.array([11,65,21,90,17,4])\n",
    "print(\"array2:\",array2)\n",
    "print(\"common values between two arrays:\")\n",
    "print(np.intersect1d(array1,array2))\n"
   ]
  },
  {
   "cell_type": "markdown",
   "metadata": {},
   "source": [
    "# 6.How to get the dates of yesterday, today and tomorrow?"
   ]
  },
  {
   "cell_type": "code",
   "execution_count": 48,
   "metadata": {},
   "outputs": [
    {
     "name": "stdout",
     "output_type": "stream",
     "text": [
      "yesterday: 2020-07-26\n",
      "Today: 2020-07-27\n",
      "tomorrow: 2020-07-28\n"
     ]
    }
   ],
   "source": [
    "yesterday=np.datetime64(\"today\",\"D\")-np.timedelta64(1,'D')\n",
    "print(\"yesterday:\",yesterday)\n",
    "today=np.datetime64(\"today\",\"D\")\n",
    "print(\"Today:\",today)\n",
    "tomorrow=np.datetime64(\"today\",\"D\")+np.timedelta64(1,'D')\n",
    "print(\"tomorrow:\",tomorrow)\n"
   ]
  },
  {
   "cell_type": "markdown",
   "metadata": {},
   "source": [
    "# 7. Consider two random array A and B, check if they are equal"
   ]
  },
  {
   "cell_type": "code",
   "execution_count": 49,
   "metadata": {},
   "outputs": [
    {
     "name": "stdout",
     "output_type": "stream",
     "text": [
      "False\n"
     ]
    }
   ],
   "source": [
    "A=np.random.randint(0,2,5)\n",
    "B=np.random.randint(0,2,5)\n",
    "equal=np.allclose(A,B)\n",
    "print(equal)"
   ]
  },
  {
   "cell_type": "markdown",
   "metadata": {},
   "source": [
    "# 8.Create random vector of size 10 and replace the maximum value by 0 "
   ]
  },
  {
   "cell_type": "code",
   "execution_count": 50,
   "metadata": {},
   "outputs": [
    {
     "name": "stdout",
     "output_type": "stream",
     "text": [
      "[1 2 3 4 5 6 7 8 9 0]\n"
     ]
    }
   ],
   "source": [
    "z=np.array((1,2,3,4,5,6,7,8,9,10))\n",
    "z[z.argmax()]=0\n",
    "print(z)"
   ]
  },
  {
   "cell_type": "markdown",
   "metadata": {},
   "source": [
    "# 9. How to print all the values of an array?"
   ]
  },
  {
   "cell_type": "code",
   "execution_count": 51,
   "metadata": {},
   "outputs": [
    {
     "name": "stdout",
     "output_type": "stream",
     "text": [
      "[[1. 1. 1. 1. 1.]\n",
      " [1. 1. 1. 1. 1.]\n",
      " [1. 1. 1. 1. 1.]\n",
      " [1. 1. 1. 1. 1.]\n",
      " [1. 1. 1. 1. 1.]]\n"
     ]
    }
   ],
   "source": [
    "arr=np.ones((5,5))\n",
    "print(arr)"
   ]
  },
  {
   "cell_type": "markdown",
   "metadata": {},
   "source": [
    "# 10.Subtract the mean of each row of a matrix"
   ]
  },
  {
   "cell_type": "code",
   "execution_count": 52,
   "metadata": {},
   "outputs": [
    {
     "name": "stdout",
     "output_type": "stream",
     "text": [
      "[[-0.14542187  0.30488449  0.38430783 -0.35756026 -0.07710359  0.51632627\n",
      "  -0.01281695 -0.38856674  0.01569924 -0.23974843]\n",
      " [ 0.38799526  0.08273418 -0.17522053  0.364329   -0.53036205 -0.37131991\n",
      "   0.23644888  0.24568588  0.24485379 -0.48514451]\n",
      " [ 0.51597131  0.14016404  0.23164513  0.39956308 -0.14674224 -0.37226428\n",
      "  -0.26888454 -0.29729933 -0.36866471  0.16651155]\n",
      " [-0.23807371 -0.4005244  -0.0245177   0.22682828  0.2690502   0.0553828\n",
      "   0.39642418 -0.13047409 -0.34310471  0.18900914]\n",
      " [-0.15931516 -0.10021463 -0.10908661  0.17084705 -0.29622952 -0.07005604\n",
      "   0.41992922  0.07303634 -0.00901453  0.08010388]]\n"
     ]
    }
   ],
   "source": [
    "x=np.random.rand(5,10)\n",
    "y=x-x.mean(axis=1,keepdims=True)\n",
    "#y=x-x.mean(axis=1).reshape(-1,1)\n",
    "print(y)"
   ]
  },
  {
   "cell_type": "markdown",
   "metadata": {},
   "source": [
    "# 11.Consider a given vector, how to add 1 to each element indexed by a second vector (be careful with repeated indices)? "
   ]
  },
  {
   "cell_type": "code",
   "execution_count": 53,
   "metadata": {},
   "outputs": [
    {
     "name": "stdout",
     "output_type": "stream",
     "text": [
      "[2. 3. 6. 3. 3. 3. 5. 1. 2. 2.]\n"
     ]
    }
   ],
   "source": [
    "z=np.ones(10)\n",
    "i=np.random.randint(0,len(z),20)\n",
    "z += np.bincount(i,minlength=len(z))\n",
    "print(z)"
   ]
  },
  {
   "cell_type": "markdown",
   "metadata": {},
   "source": [
    "# 12.How to get the diagonal of a dot product?"
   ]
  },
  {
   "cell_type": "code",
   "execution_count": 54,
   "metadata": {},
   "outputs": [
    {
     "data": {
      "text/plain": [
       "array([36, 36, 64])"
      ]
     },
     "execution_count": 54,
     "metadata": {},
     "output_type": "execute_result"
    }
   ],
   "source": [
    "A=np.random.randint(0,10,(3,3))\n",
    "B=np.random.randint(0,10,(3,3))\n",
    "np.diag(np.dot(A,B))"
   ]
  },
  {
   "cell_type": "markdown",
   "metadata": {},
   "source": [
    "# 13.How to find the most frequent value in an array?"
   ]
  },
  {
   "cell_type": "code",
   "execution_count": 55,
   "metadata": {},
   "outputs": [
    {
     "name": "stdout",
     "output_type": "stream",
     "text": [
      "original array:\n",
      "[5 2 9 6 0 5 6 0 3 1 4 8 1 1 7 8 4 5 8 3 1 7 4 0 9 9 1 9 7 0 0 2 6 4 4 3 8\n",
      " 7 2 9]\n",
      "most frequent value in the above array:\n",
      "0\n"
     ]
    }
   ],
   "source": [
    "f=np.random.randint(0, 10,40)\n",
    "print(\"original array:\")\n",
    "print(f)\n",
    "print(\"most frequent value in the above array:\")\n",
    "print(np.bincount(f).argmax())"
   ]
  },
  {
   "cell_type": "markdown",
   "metadata": {},
   "source": [
    "# 14.How to get the n largest values of an array"
   ]
  },
  {
   "cell_type": "code",
   "execution_count": 56,
   "metadata": {},
   "outputs": [
    {
     "name": "stdout",
     "output_type": "stream",
     "text": [
      "original array:\n",
      "[ 0  1  2  3  4  5  6  7  8  9 10 11 12 13 14 15 16 17 18 19]\n",
      "[19]\n"
     ]
    }
   ],
   "source": [
    "x=np.arange(20)\n",
    "print(\"original array:\")\n",
    "print(x)\n",
    "np.random.shuffle(x)\n",
    "n=1\n",
    "print(x[np.argsort(x)[-n:]])"
   ]
  },
  {
   "cell_type": "markdown",
   "metadata": {},
   "source": [
    "# 15.How to create a record array from a regular array?"
   ]
  },
  {
   "cell_type": "code",
   "execution_count": 57,
   "metadata": {},
   "outputs": [
    {
     "name": "stdout",
     "output_type": "stream",
     "text": [
      "original arrays: [['hello' '2' '3']\n",
      " ['world' '4' '7']\n",
      " ['letsupgrade' '5' '8']]\n",
      "\n",
      "record array:\n",
      "[(b'hello', 2., 3) (b'world', 4., 7) (b'letsupgrade', 5., 8)]\n"
     ]
    }
   ],
   "source": [
    "d=np.array([(\"hello\",2,3),(\"world\",4,7),(\"letsupgrade\",5,8)])\n",
    "print(\"original arrays:\",d)\n",
    "print(\"\\nrecord array:\")\n",
    "e=np.core.records.fromarrays(d.T,names='col1,col2,col3',formats='S80,f8,i8')\n",
    "print(e)"
   ]
  },
  {
   "cell_type": "code",
   "execution_count": null,
   "metadata": {},
   "outputs": [],
   "source": []
  }
 ],
 "metadata": {
  "kernelspec": {
   "display_name": "Python 3",
   "language": "python",
   "name": "python3"
  },
  "language_info": {
   "codemirror_mode": {
    "name": "ipython",
    "version": 3
   },
   "file_extension": ".py",
   "mimetype": "text/x-python",
   "name": "python",
   "nbconvert_exporter": "python",
   "pygments_lexer": "ipython3",
   "version": "3.7.6"
  }
 },
 "nbformat": 4,
 "nbformat_minor": 2
}
