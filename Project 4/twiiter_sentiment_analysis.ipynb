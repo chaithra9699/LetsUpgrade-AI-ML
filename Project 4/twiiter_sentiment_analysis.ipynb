{
 "cells": [
  {
   "cell_type": "markdown",
   "metadata": {},
   "source": [
    "### We will collect text data using Twitter API."
   ]
  },
  {
   "cell_type": "code",
   "execution_count": 4,
   "metadata": {},
   "outputs": [
    {
     "name": "stdout",
     "output_type": "stream",
     "text": [
      "Collecting tweepy\n",
      "  Downloading tweepy-3.9.0-py2.py3-none-any.whl (30 kB)\n",
      "Requirement already satisfied: six>=1.10.0 in c:\\programdata\\anaconda3\\lib\\site-packages (from tweepy) (1.15.0)\n",
      "Collecting requests-oauthlib>=0.7.0\n",
      "  Downloading requests_oauthlib-1.3.0-py2.py3-none-any.whl (23 kB)\n",
      "Requirement already satisfied: requests[socks]>=2.11.1 in c:\\programdata\\anaconda3\\lib\\site-packages (from tweepy) (2.24.0)\n",
      "Collecting oauthlib>=3.0.0\n",
      "  Downloading oauthlib-3.1.0-py2.py3-none-any.whl (147 kB)\n",
      "Requirement already satisfied: certifi>=2017.4.17 in c:\\programdata\\anaconda3\\lib\\site-packages (from requests[socks]>=2.11.1->tweepy) (2020.6.20)\n",
      "Requirement already satisfied: chardet<4,>=3.0.2 in c:\\programdata\\anaconda3\\lib\\site-packages (from requests[socks]>=2.11.1->tweepy) (3.0.4)\n",
      "Requirement already satisfied: urllib3!=1.25.0,!=1.25.1,<1.26,>=1.21.1 in c:\\programdata\\anaconda3\\lib\\site-packages (from requests[socks]>=2.11.1->tweepy) (1.25.11)\n",
      "Requirement already satisfied: idna<3,>=2.5 in c:\\programdata\\anaconda3\\lib\\site-packages (from requests[socks]>=2.11.1->tweepy) (2.10)\n",
      "Requirement already satisfied: PySocks!=1.5.7,>=1.5.6; extra == \"socks\" in c:\\programdata\\anaconda3\\lib\\site-packages (from requests[socks]>=2.11.1->tweepy) (1.7.1)\n",
      "Installing collected packages: oauthlib, requests-oauthlib, tweepy\n",
      "Successfully installed oauthlib-3.1.0 requests-oauthlib-1.3.0 tweepy-3.9.0\n"
     ]
    }
   ],
   "source": [
    "!pip install tweepy"
   ]
  },
  {
   "cell_type": "code",
   "execution_count": 5,
   "metadata": {},
   "outputs": [
    {
     "name": "stdout",
     "output_type": "stream",
     "text": [
      "Requirement already satisfied: openpyxl in c:\\programdata\\anaconda3\\lib\\site-packages (3.0.5)\n",
      "Requirement already satisfied: jdcal in c:\\programdata\\anaconda3\\lib\\site-packages (from openpyxl) (1.4.1)\n",
      "Requirement already satisfied: et-xmlfile in c:\\programdata\\anaconda3\\lib\\site-packages (from openpyxl) (1.0.1)\n"
     ]
    }
   ],
   "source": [
    "!pip install openpyxl"
   ]
  },
  {
   "cell_type": "code",
   "execution_count": 6,
   "metadata": {},
   "outputs": [],
   "source": [
    "import numpy as np\n",
    "import pandas as pd\n",
    "import tweepy\n",
    "import json\n",
    "from tweepy import OAuthHandler"
   ]
  },
  {
   "cell_type": "markdown",
   "metadata": {},
   "source": [
    "# Initializing Twitter API"
   ]
  },
  {
   "cell_type": "code",
   "execution_count": 7,
   "metadata": {},
   "outputs": [],
   "source": [
    "consumer_key = \"DreBJqr1OxQZGAuMJIS3kaeTL\"\n",
    "consumer_secret = \"5dMdE5ptm468W5o5vQf48AMShNnYGQDvtRkuhcIyycz4wBGKIj\"\n",
    "access_token = \"1322035865615556609-z6ZRy7ZJFgNNNleEE4u6zRZ7pNTvTm\"\n",
    "access_token_secret = \"Ty0OUxG0ng1YvqihRiDFmhAvOH7j2QhNBbUzWbBi07CH9\""
   ]
  },
  {
   "cell_type": "code",
   "execution_count": 8,
   "metadata": {},
   "outputs": [],
   "source": [
    "auth = tweepy.OAuthHandler( consumer_key , consumer_secret )\n",
    "auth.set_access_token( access_token , access_token_secret )\n",
    "api = tweepy.API(auth)"
   ]
  },
  {
   "cell_type": "code",
   "execution_count": 9,
   "metadata": {},
   "outputs": [],
   "source": [
    "query = \"Narendra Modi Prime Minister\""
   ]
  },
  {
   "cell_type": "code",
   "execution_count": 10,
   "metadata": {},
   "outputs": [],
   "source": [
    "Tweets = api.search( query , count=10 , lang='en' , exclude='retweets' , tweet_mode='extended' )\n",
    "#tweet_mode='extended'\n",
    "# tweet_mode='compat'\n",
    "\n",
    "# for tweet in Tweets:\n",
    "#     print(tweet,\"\\n\")\n",
    "#     print(\".....................................\\n\")"
   ]
  },
  {
   "cell_type": "markdown",
   "metadata": {},
   "source": [
    "## Creating Dataframe by fetching data using tweepy"
   ]
  },
  {
   "cell_type": "code",
   "execution_count": 11,
   "metadata": {},
   "outputs": [
    {
     "name": "stdout",
     "output_type": "stream",
     "text": [
      "Empty DataFrame\n",
      "Columns: [Tweets, User, User_statuses_count, user_followers, User_location, User_verified, fav_count, rt_count, tweet_date]\n",
      "Index: []\n",
      "(0, 9)\n"
     ]
    }
   ],
   "source": [
    "df = pd.DataFrame(columns = ['Tweets' , 'User' , 'User_statuses_count' , \n",
    "                            'user_followers' , 'User_location' , 'User_verified' ,\n",
    "                            'fav_count' , 'rt_count' , 'tweet_date'] )\n",
    "print(df)\n",
    "print(df.shape)"
   ]
  },
  {
   "cell_type": "code",
   "execution_count": 12,
   "metadata": {},
   "outputs": [],
   "source": [
    "def stream(data, file_name):\n",
    "    i = 0\n",
    "    for tweet in tweepy.Cursor(api.search, q=data, count=100, lang='en').items():\n",
    "        print(i, end='\\r')\n",
    "        df.loc[i, 'Tweets'] = tweet.text\n",
    "        df.loc[i, 'User'] = tweet.user.name\n",
    "        df.loc[i, 'User_statuses_count'] = tweet.user.statuses_count\n",
    "        df.loc[i, 'user_followers'] = tweet.user.followers_count\n",
    "        df.loc[i, 'User_location'] = tweet.user.location\n",
    "        df.loc[i, 'User_verified'] = tweet.user.verified\n",
    "        df.loc[i, 'fav_count'] = tweet.favorite_count\n",
    "        df.loc[i, 'rt_count'] = tweet.retweet_count\n",
    "        df.loc[i, 'tweet_date'] = tweet.created_at\n",
    "        df.to_excel('{}.xlsx'.format(file_name))\n",
    "        i = i+1\n",
    "        if i == 1000:\n",
    "            break\n",
    "        else:\n",
    "            pass"
   ]
  },
  {
   "cell_type": "code",
   "execution_count": 13,
   "metadata": {},
   "outputs": [
    {
     "name": "stdout",
     "output_type": "stream",
     "text": [
      "999\r"
     ]
    }
   ],
   "source": [
    "stream(data=[query] , file_name='my_tweets')"
   ]
  },
  {
   "cell_type": "code",
   "execution_count": 14,
   "metadata": {},
   "outputs": [
    {
     "data": {
      "text/html": [
       "<div>\n",
       "<style scoped>\n",
       "    .dataframe tbody tr th:only-of-type {\n",
       "        vertical-align: middle;\n",
       "    }\n",
       "\n",
       "    .dataframe tbody tr th {\n",
       "        vertical-align: top;\n",
       "    }\n",
       "\n",
       "    .dataframe thead th {\n",
       "        text-align: right;\n",
       "    }\n",
       "</style>\n",
       "<table border=\"1\" class=\"dataframe\">\n",
       "  <thead>\n",
       "    <tr style=\"text-align: right;\">\n",
       "      <th></th>\n",
       "      <th>Tweets</th>\n",
       "      <th>User</th>\n",
       "      <th>User_statuses_count</th>\n",
       "      <th>user_followers</th>\n",
       "      <th>User_location</th>\n",
       "      <th>User_verified</th>\n",
       "      <th>fav_count</th>\n",
       "      <th>rt_count</th>\n",
       "      <th>tweet_date</th>\n",
       "    </tr>\n",
       "  </thead>\n",
       "  <tbody>\n",
       "    <tr>\n",
       "      <th>0</th>\n",
       "      <td>Shri. Narendra Modi, Honourable Prime Minister...</td>\n",
       "      <td>Suman Sarkar</td>\n",
       "      <td>53</td>\n",
       "      <td>65</td>\n",
       "      <td>London</td>\n",
       "      <td>False</td>\n",
       "      <td>1</td>\n",
       "      <td>0</td>\n",
       "      <td>2020-11-20 14:17:26</td>\n",
       "    </tr>\n",
       "    <tr>\n",
       "      <th>1</th>\n",
       "      <td>RT @Warrior35685326: #SaveChildrenOfIIOJK \\nTh...</td>\n",
       "      <td>Engrt Ansar Awan</td>\n",
       "      <td>5309</td>\n",
       "      <td>346</td>\n",
       "      <td>Talagang</td>\n",
       "      <td>False</td>\n",
       "      <td>0</td>\n",
       "      <td>2</td>\n",
       "      <td>2020-11-20 14:16:47</td>\n",
       "    </tr>\n",
       "    <tr>\n",
       "      <th>2</th>\n",
       "      <td>RT @EconomicTimes: UP CM Yogi Adityanath said ...</td>\n",
       "      <td>Ramky</td>\n",
       "      <td>634</td>\n",
       "      <td>8</td>\n",
       "      <td></td>\n",
       "      <td>False</td>\n",
       "      <td>0</td>\n",
       "      <td>1</td>\n",
       "      <td>2020-11-20 14:16:10</td>\n",
       "    </tr>\n",
       "    <tr>\n",
       "      <th>3</th>\n",
       "      <td>RT @iampayalghosh: Shri. Narendra Modi, Honour...</td>\n",
       "      <td>Vinay 🇮🇳</td>\n",
       "      <td>169808</td>\n",
       "      <td>1778</td>\n",
       "      <td>India</td>\n",
       "      <td>False</td>\n",
       "      <td>0</td>\n",
       "      <td>20</td>\n",
       "      <td>2020-11-20 14:16:00</td>\n",
       "    </tr>\n",
       "    <tr>\n",
       "      <th>4</th>\n",
       "      <td>RT @abhiram_mahakul: PM holds India – Luxembou...</td>\n",
       "      <td>DaalBatiChurmaa</td>\n",
       "      <td>13667</td>\n",
       "      <td>51</td>\n",
       "      <td></td>\n",
       "      <td>False</td>\n",
       "      <td>0</td>\n",
       "      <td>80</td>\n",
       "      <td>2020-11-20 14:15:41</td>\n",
       "    </tr>\n",
       "  </tbody>\n",
       "</table>\n",
       "</div>"
      ],
      "text/plain": [
       "                                              Tweets              User  \\\n",
       "0  Shri. Narendra Modi, Honourable Prime Minister...      Suman Sarkar   \n",
       "1  RT @Warrior35685326: #SaveChildrenOfIIOJK \\nTh...  Engrt Ansar Awan   \n",
       "2  RT @EconomicTimes: UP CM Yogi Adityanath said ...             Ramky   \n",
       "3  RT @iampayalghosh: Shri. Narendra Modi, Honour...          Vinay 🇮🇳   \n",
       "4  RT @abhiram_mahakul: PM holds India – Luxembou...   DaalBatiChurmaa   \n",
       "\n",
       "  User_statuses_count user_followers User_location User_verified fav_count  \\\n",
       "0                  53             65        London         False         1   \n",
       "1                5309            346      Talagang         False         0   \n",
       "2                 634              8                       False         0   \n",
       "3              169808           1778         India         False         0   \n",
       "4               13667             51                       False         0   \n",
       "\n",
       "  rt_count           tweet_date  \n",
       "0        0  2020-11-20 14:17:26  \n",
       "1        2  2020-11-20 14:16:47  \n",
       "2        1  2020-11-20 14:16:10  \n",
       "3       20  2020-11-20 14:16:00  \n",
       "4       80  2020-11-20 14:15:41  "
      ]
     },
     "execution_count": 14,
     "metadata": {},
     "output_type": "execute_result"
    }
   ],
   "source": [
    "df.head()"
   ]
  },
  {
   "cell_type": "code",
   "execution_count": 15,
   "metadata": {},
   "outputs": [
    {
     "name": "stdout",
     "output_type": "stream",
     "text": [
      "Collecting textblob\n",
      "  Downloading textblob-0.15.3-py2.py3-none-any.whl (636 kB)\n",
      "Requirement already satisfied: nltk>=3.1 in c:\\programdata\\anaconda3\\lib\\site-packages (from textblob) (3.5)\n",
      "Requirement already satisfied: regex in c:\\programdata\\anaconda3\\lib\\site-packages (from nltk>=3.1->textblob) (2020.10.15)\n",
      "Requirement already satisfied: joblib in c:\\programdata\\anaconda3\\lib\\site-packages (from nltk>=3.1->textblob) (0.17.0)\n",
      "Requirement already satisfied: click in c:\\programdata\\anaconda3\\lib\\site-packages (from nltk>=3.1->textblob) (7.1.2)\n",
      "Requirement already satisfied: tqdm in c:\\programdata\\anaconda3\\lib\\site-packages (from nltk>=3.1->textblob) (4.50.2)\n",
      "Installing collected packages: textblob\n",
      "Successfully installed textblob-0.15.3\n"
     ]
    }
   ],
   "source": [
    "!pip install textblob"
   ]
  },
  {
   "cell_type": "raw",
   "metadata": {},
   "source": [
    "Sentiment(polarity, subjectivity)\n",
    "\n",
    "Polarity score: [-1 , +1] \n",
    "  \n",
    "Subjectivity: [0.0 , 1.0] \n",
    "where 0.0 is very Objective and 1.0 is very Subjective."
   ]
  },
  {
   "cell_type": "markdown",
   "metadata": {},
   "source": [
    "## Cleaning Tweets and analyzing using TextBlob"
   ]
  },
  {
   "cell_type": "code",
   "execution_count": 16,
   "metadata": {},
   "outputs": [],
   "source": [
    "from textblob import TextBlob"
   ]
  },
  {
   "cell_type": "code",
   "execution_count": 17,
   "metadata": {},
   "outputs": [],
   "source": [
    "import re\n",
    "def clean_tweet(tweet):\n",
    "    return ' '.join(re.sub('(@[A-Za-z0-9]+)|([^0-9A-Za-z \\t])|(\\w+:\\/\\/\\S+)', ' ', tweet).split())"
   ]
  },
  {
   "cell_type": "code",
   "execution_count": 18,
   "metadata": {},
   "outputs": [],
   "source": [
    "def analyze_sentiment(tweet):\n",
    "    analysis = TextBlob(tweet)\n",
    "    if analysis.sentiment.polarity > 0:\n",
    "        return 'Positive'\n",
    "    elif analysis.sentiment.polarity == 0:\n",
    "        return 'Neutral'\n",
    "    else:\n",
    "        return 'Negative'"
   ]
  },
  {
   "cell_type": "code",
   "execution_count": 19,
   "metadata": {},
   "outputs": [],
   "source": [
    "df['clean_tweet'] = df['Tweets'].apply(lambda x : clean_tweet(x))"
   ]
  },
  {
   "cell_type": "code",
   "execution_count": 20,
   "metadata": {},
   "outputs": [
    {
     "data": {
      "text/html": [
       "<div>\n",
       "<style scoped>\n",
       "    .dataframe tbody tr th:only-of-type {\n",
       "        vertical-align: middle;\n",
       "    }\n",
       "\n",
       "    .dataframe tbody tr th {\n",
       "        vertical-align: top;\n",
       "    }\n",
       "\n",
       "    .dataframe thead th {\n",
       "        text-align: right;\n",
       "    }\n",
       "</style>\n",
       "<table border=\"1\" class=\"dataframe\">\n",
       "  <thead>\n",
       "    <tr style=\"text-align: right;\">\n",
       "      <th></th>\n",
       "      <th>Tweets</th>\n",
       "      <th>User</th>\n",
       "      <th>User_statuses_count</th>\n",
       "      <th>user_followers</th>\n",
       "      <th>User_location</th>\n",
       "      <th>User_verified</th>\n",
       "      <th>fav_count</th>\n",
       "      <th>rt_count</th>\n",
       "      <th>tweet_date</th>\n",
       "      <th>clean_tweet</th>\n",
       "    </tr>\n",
       "  </thead>\n",
       "  <tbody>\n",
       "    <tr>\n",
       "      <th>0</th>\n",
       "      <td>Shri. Narendra Modi, Honourable Prime Minister...</td>\n",
       "      <td>Suman Sarkar</td>\n",
       "      <td>53</td>\n",
       "      <td>65</td>\n",
       "      <td>London</td>\n",
       "      <td>False</td>\n",
       "      <td>1</td>\n",
       "      <td>0</td>\n",
       "      <td>2020-11-20 14:17:26</td>\n",
       "      <td>Shri Narendra Modi Honourable Prime Minister O...</td>\n",
       "    </tr>\n",
       "    <tr>\n",
       "      <th>1</th>\n",
       "      <td>RT @Warrior35685326: #SaveChildrenOfIIOJK \\nTh...</td>\n",
       "      <td>Engrt Ansar Awan</td>\n",
       "      <td>5309</td>\n",
       "      <td>346</td>\n",
       "      <td>Talagang</td>\n",
       "      <td>False</td>\n",
       "      <td>0</td>\n",
       "      <td>2</td>\n",
       "      <td>2020-11-20 14:16:47</td>\n",
       "      <td>RT SaveChildrenOfIIOJK This ensures that the l...</td>\n",
       "    </tr>\n",
       "    <tr>\n",
       "      <th>2</th>\n",
       "      <td>RT @EconomicTimes: UP CM Yogi Adityanath said ...</td>\n",
       "      <td>Ramky</td>\n",
       "      <td>634</td>\n",
       "      <td>8</td>\n",
       "      <td></td>\n",
       "      <td>False</td>\n",
       "      <td>0</td>\n",
       "      <td>1</td>\n",
       "      <td>2020-11-20 14:16:10</td>\n",
       "      <td>RT UP CM Yogi Adityanath said the National Edu...</td>\n",
       "    </tr>\n",
       "    <tr>\n",
       "      <th>3</th>\n",
       "      <td>RT @iampayalghosh: Shri. Narendra Modi, Honour...</td>\n",
       "      <td>Vinay 🇮🇳</td>\n",
       "      <td>169808</td>\n",
       "      <td>1778</td>\n",
       "      <td>India</td>\n",
       "      <td>False</td>\n",
       "      <td>0</td>\n",
       "      <td>20</td>\n",
       "      <td>2020-11-20 14:16:00</td>\n",
       "      <td>RT Shri Narendra Modi Honourable Prime Ministe...</td>\n",
       "    </tr>\n",
       "    <tr>\n",
       "      <th>4</th>\n",
       "      <td>RT @abhiram_mahakul: PM holds India – Luxembou...</td>\n",
       "      <td>DaalBatiChurmaa</td>\n",
       "      <td>13667</td>\n",
       "      <td>51</td>\n",
       "      <td></td>\n",
       "      <td>False</td>\n",
       "      <td>0</td>\n",
       "      <td>80</td>\n",
       "      <td>2020-11-20 14:15:41</td>\n",
       "      <td>RT mahakul PM holds India Luxembourg Virtual S...</td>\n",
       "    </tr>\n",
       "  </tbody>\n",
       "</table>\n",
       "</div>"
      ],
      "text/plain": [
       "                                              Tweets              User  \\\n",
       "0  Shri. Narendra Modi, Honourable Prime Minister...      Suman Sarkar   \n",
       "1  RT @Warrior35685326: #SaveChildrenOfIIOJK \\nTh...  Engrt Ansar Awan   \n",
       "2  RT @EconomicTimes: UP CM Yogi Adityanath said ...             Ramky   \n",
       "3  RT @iampayalghosh: Shri. Narendra Modi, Honour...          Vinay 🇮🇳   \n",
       "4  RT @abhiram_mahakul: PM holds India – Luxembou...   DaalBatiChurmaa   \n",
       "\n",
       "  User_statuses_count user_followers User_location User_verified fav_count  \\\n",
       "0                  53             65        London         False         1   \n",
       "1                5309            346      Talagang         False         0   \n",
       "2                 634              8                       False         0   \n",
       "3              169808           1778         India         False         0   \n",
       "4               13667             51                       False         0   \n",
       "\n",
       "  rt_count           tweet_date  \\\n",
       "0        0  2020-11-20 14:17:26   \n",
       "1        2  2020-11-20 14:16:47   \n",
       "2        1  2020-11-20 14:16:10   \n",
       "3       20  2020-11-20 14:16:00   \n",
       "4       80  2020-11-20 14:15:41   \n",
       "\n",
       "                                         clean_tweet  \n",
       "0  Shri Narendra Modi Honourable Prime Minister O...  \n",
       "1  RT SaveChildrenOfIIOJK This ensures that the l...  \n",
       "2  RT UP CM Yogi Adityanath said the National Edu...  \n",
       "3  RT Shri Narendra Modi Honourable Prime Ministe...  \n",
       "4  RT mahakul PM holds India Luxembourg Virtual S...  "
      ]
     },
     "execution_count": 20,
     "metadata": {},
     "output_type": "execute_result"
    }
   ],
   "source": [
    "df.head()"
   ]
  },
  {
   "cell_type": "code",
   "execution_count": 21,
   "metadata": {},
   "outputs": [
    {
     "data": {
      "text/html": [
       "<div>\n",
       "<style scoped>\n",
       "    .dataframe tbody tr th:only-of-type {\n",
       "        vertical-align: middle;\n",
       "    }\n",
       "\n",
       "    .dataframe tbody tr th {\n",
       "        vertical-align: top;\n",
       "    }\n",
       "\n",
       "    .dataframe thead th {\n",
       "        text-align: right;\n",
       "    }\n",
       "</style>\n",
       "<table border=\"1\" class=\"dataframe\">\n",
       "  <thead>\n",
       "    <tr style=\"text-align: right;\">\n",
       "      <th></th>\n",
       "      <th>Tweets</th>\n",
       "      <th>User</th>\n",
       "      <th>User_statuses_count</th>\n",
       "      <th>user_followers</th>\n",
       "      <th>User_location</th>\n",
       "      <th>User_verified</th>\n",
       "      <th>fav_count</th>\n",
       "      <th>rt_count</th>\n",
       "      <th>tweet_date</th>\n",
       "      <th>clean_tweet</th>\n",
       "      <th>Sentiment</th>\n",
       "    </tr>\n",
       "  </thead>\n",
       "  <tbody>\n",
       "    <tr>\n",
       "      <th>0</th>\n",
       "      <td>Shri. Narendra Modi, Honourable Prime Minister...</td>\n",
       "      <td>Suman Sarkar</td>\n",
       "      <td>53</td>\n",
       "      <td>65</td>\n",
       "      <td>London</td>\n",
       "      <td>False</td>\n",
       "      <td>1</td>\n",
       "      <td>0</td>\n",
       "      <td>2020-11-20 14:17:26</td>\n",
       "      <td>Shri Narendra Modi Honourable Prime Minister O...</td>\n",
       "      <td>Positive</td>\n",
       "    </tr>\n",
       "    <tr>\n",
       "      <th>1</th>\n",
       "      <td>RT @Warrior35685326: #SaveChildrenOfIIOJK \\nTh...</td>\n",
       "      <td>Engrt Ansar Awan</td>\n",
       "      <td>5309</td>\n",
       "      <td>346</td>\n",
       "      <td>Talagang</td>\n",
       "      <td>False</td>\n",
       "      <td>0</td>\n",
       "      <td>2</td>\n",
       "      <td>2020-11-20 14:16:47</td>\n",
       "      <td>RT SaveChildrenOfIIOJK This ensures that the l...</td>\n",
       "      <td>Neutral</td>\n",
       "    </tr>\n",
       "    <tr>\n",
       "      <th>2</th>\n",
       "      <td>RT @EconomicTimes: UP CM Yogi Adityanath said ...</td>\n",
       "      <td>Ramky</td>\n",
       "      <td>634</td>\n",
       "      <td>8</td>\n",
       "      <td></td>\n",
       "      <td>False</td>\n",
       "      <td>0</td>\n",
       "      <td>1</td>\n",
       "      <td>2020-11-20 14:16:10</td>\n",
       "      <td>RT UP CM Yogi Adityanath said the National Edu...</td>\n",
       "      <td>Neutral</td>\n",
       "    </tr>\n",
       "    <tr>\n",
       "      <th>3</th>\n",
       "      <td>RT @iampayalghosh: Shri. Narendra Modi, Honour...</td>\n",
       "      <td>Vinay 🇮🇳</td>\n",
       "      <td>169808</td>\n",
       "      <td>1778</td>\n",
       "      <td>India</td>\n",
       "      <td>False</td>\n",
       "      <td>0</td>\n",
       "      <td>20</td>\n",
       "      <td>2020-11-20 14:16:00</td>\n",
       "      <td>RT Shri Narendra Modi Honourable Prime Ministe...</td>\n",
       "      <td>Neutral</td>\n",
       "    </tr>\n",
       "    <tr>\n",
       "      <th>4</th>\n",
       "      <td>RT @abhiram_mahakul: PM holds India – Luxembou...</td>\n",
       "      <td>DaalBatiChurmaa</td>\n",
       "      <td>13667</td>\n",
       "      <td>51</td>\n",
       "      <td></td>\n",
       "      <td>False</td>\n",
       "      <td>0</td>\n",
       "      <td>80</td>\n",
       "      <td>2020-11-20 14:15:41</td>\n",
       "      <td>RT mahakul PM holds India Luxembourg Virtual S...</td>\n",
       "      <td>Positive</td>\n",
       "    </tr>\n",
       "  </tbody>\n",
       "</table>\n",
       "</div>"
      ],
      "text/plain": [
       "                                              Tweets              User  \\\n",
       "0  Shri. Narendra Modi, Honourable Prime Minister...      Suman Sarkar   \n",
       "1  RT @Warrior35685326: #SaveChildrenOfIIOJK \\nTh...  Engrt Ansar Awan   \n",
       "2  RT @EconomicTimes: UP CM Yogi Adityanath said ...             Ramky   \n",
       "3  RT @iampayalghosh: Shri. Narendra Modi, Honour...          Vinay 🇮🇳   \n",
       "4  RT @abhiram_mahakul: PM holds India – Luxembou...   DaalBatiChurmaa   \n",
       "\n",
       "  User_statuses_count user_followers User_location User_verified fav_count  \\\n",
       "0                  53             65        London         False         1   \n",
       "1                5309            346      Talagang         False         0   \n",
       "2                 634              8                       False         0   \n",
       "3              169808           1778         India         False         0   \n",
       "4               13667             51                       False         0   \n",
       "\n",
       "  rt_count           tweet_date  \\\n",
       "0        0  2020-11-20 14:17:26   \n",
       "1        2  2020-11-20 14:16:47   \n",
       "2        1  2020-11-20 14:16:10   \n",
       "3       20  2020-11-20 14:16:00   \n",
       "4       80  2020-11-20 14:15:41   \n",
       "\n",
       "                                         clean_tweet Sentiment  \n",
       "0  Shri Narendra Modi Honourable Prime Minister O...  Positive  \n",
       "1  RT SaveChildrenOfIIOJK This ensures that the l...   Neutral  \n",
       "2  RT UP CM Yogi Adityanath said the National Edu...   Neutral  \n",
       "3  RT Shri Narendra Modi Honourable Prime Ministe...   Neutral  \n",
       "4  RT mahakul PM holds India Luxembourg Virtual S...  Positive  "
      ]
     },
     "execution_count": 21,
     "metadata": {},
     "output_type": "execute_result"
    }
   ],
   "source": [
    "df['Sentiment'] = df['clean_tweet'].apply(lambda x : analyze_sentiment(x) )\n",
    "df.head()"
   ]
  },
  {
   "cell_type": "code",
   "execution_count": 25,
   "metadata": {},
   "outputs": [
    {
     "data": {
      "text/plain": [
       "Tweets                 48\n",
       "User                   48\n",
       "User_statuses_count    48\n",
       "user_followers         48\n",
       "User_location          48\n",
       "User_verified          48\n",
       "fav_count              48\n",
       "rt_count               48\n",
       "tweet_date             48\n",
       "clean_tweet            48\n",
       "Sentiment              48\n",
       "dtype: int64"
      ]
     },
     "execution_count": 25,
     "metadata": {},
     "output_type": "execute_result"
    }
   ],
   "source": [
    "df[df['User_verified'] == True].count()"
   ]
  },
  {
   "cell_type": "code",
   "execution_count": 24,
   "metadata": {},
   "outputs": [
    {
     "name": "stdout",
     "output_type": "stream",
     "text": [
      "Original tweet:\n",
      " RT @Warrior35685326: #SaveChildrenOfIIOJK \n",
      "This ensures that the legislature of India, armed forces and Prime Minister Narendra Modi are aw…\n",
      "\n",
      "Clean tweet:\n",
      " RT SaveChildrenOfIIOJK This ensures that the legislature of India armed forces and Prime Minister Narendra Modi are aw\n",
      "\n",
      "Sentiment of the tweet:\n",
      " Neutral\n"
     ]
    }
   ],
   "source": [
    "n = 1\n",
    "print(\"Original tweet:\\n\",df['Tweets'][n])\n",
    "print()\n",
    "print(\"Clean tweet:\\n\",df['clean_tweet'][n])\n",
    "print()\n",
    "print(\"Sentiment of the tweet:\\n\",df['Sentiment'][n])"
   ]
  },
  {
   "cell_type": "code",
   "execution_count": 26,
   "metadata": {},
   "outputs": [
    {
     "name": "stdout",
     "output_type": "stream",
     "text": [
      "Original tweet:\n",
      " PM’s Greetings on Chhath\n",
      "https://t.co/NTEbTP3CdQ via NaMo App https://t.co/UuF8VKnYtp\n",
      "\n",
      "Clean tweet:\n",
      " PM s Greetings on Chhath via NaMo App\n",
      "\n",
      "Sentiment of the tweet:\n",
      " Neutral\n"
     ]
    }
   ],
   "source": [
    "n = 20\n",
    "print(\"Original tweet:\\n\",df['Tweets'][n])\n",
    "print()\n",
    "print(\"Clean tweet:\\n\",df['clean_tweet'][n])\n",
    "print()\n",
    "print(\"Sentiment of the tweet:\\n\",df['Sentiment'][n])"
   ]
  },
  {
   "cell_type": "code",
   "execution_count": 27,
   "metadata": {},
   "outputs": [
    {
     "name": "stdout",
     "output_type": "stream",
     "text": [
      "Original tweet:\n",
      " RT @RadharamnDas: India got freedom because of Netaji Subhas Chandra Bose. \n",
      "\n",
      "Vested interest banished him from our history books hoping tha…\n",
      "\n",
      "Clean tweet:\n",
      " RT India got freedom because of Netaji Subhas Chandra Bose Vested interest banished him from our history books hoping tha\n",
      "\n",
      "Sentiment of the tweet:\n",
      " Neutral\n"
     ]
    }
   ],
   "source": [
    "n = 203\n",
    "print(\"Original tweet:\\n\",df['Tweets'][n])\n",
    "print()\n",
    "print(\"Clean tweet:\\n\",df['clean_tweet'][n])\n",
    "print()\n",
    "print(\"Sentiment of the tweet:\\n\",df['Sentiment'][n])"
   ]
  },
  {
   "cell_type": "code",
   "execution_count": 28,
   "metadata": {},
   "outputs": [
    {
     "data": {
      "text/plain": [
       "403"
      ]
     },
     "execution_count": 28,
     "metadata": {},
     "output_type": "execute_result"
    }
   ],
   "source": [
    "df[df.Sentiment == 'Positive'].shape[0]"
   ]
  },
  {
   "cell_type": "code",
   "execution_count": 29,
   "metadata": {},
   "outputs": [
    {
     "data": {
      "text/plain": [
       "591"
      ]
     },
     "execution_count": 29,
     "metadata": {},
     "output_type": "execute_result"
    }
   ],
   "source": [
    "df[df.Sentiment == 'Neutral'].shape[0]"
   ]
  },
  {
   "cell_type": "code",
   "execution_count": 30,
   "metadata": {},
   "outputs": [
    {
     "data": {
      "text/plain": [
       "6"
      ]
     },
     "execution_count": 30,
     "metadata": {},
     "output_type": "execute_result"
    }
   ],
   "source": [
    "df[df.Sentiment == 'Negative'].shape[0]"
   ]
  }
 ],
 "metadata": {
  "kernelspec": {
   "display_name": "Python 3",
   "language": "python",
   "name": "python3"
  },
  "language_info": {
   "codemirror_mode": {
    "name": "ipython",
    "version": 3
   },
   "file_extension": ".py",
   "mimetype": "text/x-python",
   "name": "python",
   "nbconvert_exporter": "python",
   "pygments_lexer": "ipython3",
   "version": "3.8.5"
  }
 },
 "nbformat": 4,
 "nbformat_minor": 4
}
