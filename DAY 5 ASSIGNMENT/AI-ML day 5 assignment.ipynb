{
 "cells": [
  {
   "cell_type": "markdown",
   "metadata": {},
   "source": [
    "1. write a python program to find the first 20 non even prime natural numbers"
   ]
  },
  {
   "cell_type": "code",
   "execution_count": 3,
   "metadata": {},
   "outputs": [
    {
     "name": "stdout",
     "output_type": "stream",
     "text": [
      "enter the prime numbers you want:20\n",
      "\n",
      "The frist 20 non-even prime numbers are:\n",
      "\n",
      "3 5 7 11 13 17 19 23 29 31 37 41 43 47 53 59 61 67 71 73 "
     ]
    }
   ],
   "source": [
    "a=int(input(\"enter the prime numbers you want:\"))\n",
    "b=range(1,a*10)\n",
    "prime_num=[]\n",
    "for i in b:\n",
    "    if i>2 and len(prime_num)<=a-1:\n",
    "        for c in range(2,i):\n",
    "            if(i%c)==0:\n",
    "                break\n",
    "        else:\n",
    "            prime_num.append(i)\n",
    "print(\"\\nThe frist\",a,\"non-even prime numbers are:\\n\")\n",
    "for d in prime_num:\n",
    "    print(d,end=\" \")"
   ]
  },
  {
   "cell_type": "markdown",
   "metadata": {},
   "source": [
    "2.WRITE A PYTHON PROGRAM TO IMPLEMENT 15 FUNCTIONS OF STRING"
   ]
  },
  {
   "cell_type": "code",
   "execution_count": 66,
   "metadata": {},
   "outputs": [
    {
     "name": "stdout",
     "output_type": "stream",
     "text": [
      "Chaithra kn\n",
      "chaithra kn\n",
      "2\n",
      "6\n",
      "False\n",
      "CHAITHRA KN\n",
      "chaithra kn\n",
      "False\n",
      "False\n",
      "cHAITHRA kn\n",
      "False\n",
      "['Chaithra KN']\n",
      "True\n",
      "Chaithra Kn\n",
      "Chaithra Nataraj\n"
     ]
    }
   ],
   "source": [
    "s=\"Chaithra KN\"\n",
    "print(s.capitalize())\n",
    "print(s.casefold())\n",
    "print(s.count(\"a\"))\n",
    "print(s.find(\"r\"))\n",
    "print(s.isalpha())\n",
    "print(s.upper())\n",
    "print(s.lower())\n",
    "print(s.islower())\n",
    "print(s.isupper())\n",
    "print(s.swapcase())\n",
    "print(s.isdigit())\n",
    "print(s.splitlines())\n",
    "print(s.endswith(\"N\"))\n",
    "print(s.title())\n",
    "print(s.replace(\"KN\",\"Nataraj\"))"
   ]
  },
  {
   "cell_type": "markdown",
   "metadata": {},
   "source": [
    "3.Write a Python program to check if the given string is a Palindrome or Anagram or None of them.\n",
    "Display the message accordingly to the user."
   ]
  },
  {
   "cell_type": "code",
   "execution_count": 2,
   "metadata": {},
   "outputs": [
    {
     "name": "stdout",
     "output_type": "stream",
     "text": [
      "they see\n",
      "the eyes\n",
      "the given string is anagram\n"
     ]
    }
   ],
   "source": [
    "x=str(input(\"\"))\n",
    "y=str(input(\"\"))\n",
    "def name():\n",
    "    if x==x[::-1]:\n",
    "        print(\"the given string is palindrome\")\n",
    "    elif(sorted(x)==sorted(y)):\n",
    "        print(\"the given string is anagram\")\n",
    "    else:\n",
    "        print(\"none of them\")\n",
    "name()\n"
   ]
  },
  {
   "cell_type": "markdown",
   "metadata": {},
   "source": [
    "4.QUESTION 4 WRITE A PYHON'S USER DEFINED FUNCTION THAT REMOVES ALL THE ADDITIONAL CHARACTERS FROM THE STRING AND CONVERT IF FINALLY TO LOWER CASE USING BUILT-IN LOWER().EG:IF THE STRING IS \"Dr.Darshan Ingle @AI-ML Trainer\",then the output be \"drdarshaningle aimltrainer\"\n",
    "\n"
   ]
  },
  {
   "cell_type": "code",
   "execution_count": 4,
   "metadata": {},
   "outputs": [
    {
     "name": "stdout",
     "output_type": "stream",
     "text": [
      "enter the string:vinu@34#$yahoo.com\n",
      "vinu34yahoocom\n"
     ]
    }
   ],
   "source": [
    "def remove_name(r):\n",
    "    additional_characters_to_remove=\" .@-<>*&$#!*+-:;_' '?%\"\n",
    "    new_name=r\n",
    "    for name in additional_characters_to_remove:\n",
    "        new_name=new_name.lower().replace(name,\"\")\n",
    "    print(new_name)\n",
    "remove_name(str(input(\"enter the string:\")))"
   ]
  }
 ],
 "metadata": {
  "kernelspec": {
   "display_name": "Python 3",
   "language": "python",
   "name": "python3"
  },
  "language_info": {
   "codemirror_mode": {
    "name": "ipython",
    "version": 3
   },
   "file_extension": ".py",
   "mimetype": "text/x-python",
   "name": "python",
   "nbconvert_exporter": "python",
   "pygments_lexer": "ipython3",
   "version": "3.7.6"
  }
 },
 "nbformat": 4,
 "nbformat_minor": 4
}
