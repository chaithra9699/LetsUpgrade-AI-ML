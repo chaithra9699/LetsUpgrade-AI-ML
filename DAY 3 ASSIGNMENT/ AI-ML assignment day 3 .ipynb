{
 "cells": [
  {
   "cell_type": "markdown",
   "metadata": {},
   "source": [
    "1. WRITE A PROGRAM TO SUBTRACT TWO COMPLEX NUMBERS IN PYTHON"
   ]
  },
  {
   "cell_type": "code",
   "execution_count": 2,
   "metadata": {},
   "outputs": [
    {
     "name": "stdout",
     "output_type": "stream",
     "text": [
      "4+5j\n",
      "6+8j\n",
      "The value of a= (4+5j) The value of b= (6+8j)\n",
      "subtraction of two complex number is= (-2-3j)\n"
     ]
    }
   ],
   "source": [
    "a=complex(input(\"\"))\n",
    "b=complex(input(\"\"))\n",
    "print(\"The value of a=\",a,\"The value of b=\",b)\n",
    "print(\"subtraction of two complex number is=\",a-b)\n"
   ]
  },
  {
   "cell_type": "markdown",
   "metadata": {},
   "source": [
    "2.PROGRAM TO FIND A FOURTH ROOT OF A NUMBER\n"
   ]
  },
  {
   "cell_type": "code",
   "execution_count": 3,
   "metadata": {},
   "outputs": [
    {
     "name": "stdout",
     "output_type": "stream",
     "text": [
      "The number is =256\n",
      "Fourth root of a number is= 4.0\n"
     ]
    }
   ],
   "source": [
    "number=int(input(\"The number is =\"))\n",
    "fourthroot=number**0.25\n",
    "print(\"Fourth root of a number is=\",fourthroot)"
   ]
  },
  {
   "cell_type": "markdown",
   "metadata": {},
   "source": [
    "3.WRITE A PROGRAM TO SWAP TWO NUMBERS IN PYTHON WITH THE HELP OF A TEMPORARY VARIABLE\n"
   ]
  },
  {
   "cell_type": "code",
   "execution_count": 3,
   "metadata": {},
   "outputs": [
    {
     "name": "stdout",
     "output_type": "stream",
     "text": [
      "the value of x is=5\n",
      "the value of y is=7\n",
      "after swapping value os x is= 7 \n",
      "after swapping value of y is= 5\n"
     ]
    }
   ],
   "source": [
    "x=int(input(\"the value of x is=\"))\n",
    "y=int(input(\"the value of y is=\"))\n",
    "temp=x\n",
    "x=y\n",
    "y=temp\n",
    "print(\"after swapping value os x is=\",x,\"\\nafter swapping value of y is=\",y)"
   ]
  },
  {
   "cell_type": "markdown",
   "metadata": {},
   "source": [
    "4.WRITE A PROGRAM TO SWAP TWO NUMBERS IN PYTHON WITHOUT USING A TEMPORARY VARIABLE\n"
   ]
  },
  {
   "cell_type": "code",
   "execution_count": 8,
   "metadata": {},
   "outputs": [
    {
     "name": "stdout",
     "output_type": "stream",
     "text": [
      "the value of a is=9\n",
      "the value of b is=27\n",
      "after swapping value of a is= 27 \n",
      "after swapping value of b is= 9\n"
     ]
    }
   ],
   "source": [
    "a=int(input(\"the value of a is=\"))\n",
    "b=int(input(\"the value of b is=\"))\n",
    "a,b=b,a\n",
    "print(\"after swapping value of a is=\",a,\"\\nafter swapping value of b is=\",b)"
   ]
  },
  {
   "cell_type": "markdown",
   "metadata": {},
   "source": [
    "5.WRITE A PROGRAM TO CONVERT FAHRENHEIT TO KELVIN AND CELSIUS BOTH"
   ]
  },
  {
   "cell_type": "code",
   "execution_count": 1,
   "metadata": {},
   "outputs": [
    {
     "name": "stdout",
     "output_type": "stream",
     "text": [
      "500\n",
      "the value of fahrenheit to kelvin = 533.5\n",
      "the value of fahrenheit to celsius = 468.55555555555554\n",
      "the value of fahrenheit to kelvin = 260.35\n"
     ]
    }
   ],
   "source": [
    "F=float(input(\"\"))\n",
    "kelvin=273.5+((F-32.0)*(5.0/9.0))\n",
    "fahrenheit_to_celsius=(5/9)+(F-32)\n",
    "kelvin_to_celsius=kelvin-273.15\n",
    "print(\"the value of fahrenheit to kelvin =\",kelvin)\n",
    "print(\"the value of fahrenheit to celsius =\",fahrenheit_to_celsius)\n",
    "print(\"the value of fahrenheit to kelvin =\",kelvin_to_celsius)"
   ]
  },
  {
   "cell_type": "code",
   "execution_count": 2,
   "metadata": {},
   "outputs": [
    {
     "name": "stdout",
     "output_type": "stream",
     "text": [
      "45\n"
     ]
    },
    {
     "data": {
      "text/plain": [
       "int"
      ]
     },
     "execution_count": 2,
     "metadata": {},
     "output_type": "execute_result"
    }
   ],
   "source": [
    "a=45\n",
    "print(a)\n",
    "type(a)"
   ]
  },
  {
   "cell_type": "code",
   "execution_count": 3,
   "metadata": {},
   "outputs": [
    {
     "name": "stdout",
     "output_type": "stream",
     "text": [
      "1.4678\n"
     ]
    },
    {
     "data": {
      "text/plain": [
       "float"
      ]
     },
     "execution_count": 3,
     "metadata": {},
     "output_type": "execute_result"
    }
   ],
   "source": [
    "b=1.4678\n",
    "print(b)\n",
    "type(b)"
   ]
  },
  {
   "cell_type": "code",
   "execution_count": 4,
   "metadata": {},
   "outputs": [
    {
     "name": "stdout",
     "output_type": "stream",
     "text": [
      "123 chaithra\n"
     ]
    },
    {
     "data": {
      "text/plain": [
       "str"
      ]
     },
     "execution_count": 4,
     "metadata": {},
     "output_type": "execute_result"
    }
   ],
   "source": [
    "c=\"123 chaithra\"\n",
    "print(c)\n",
    "type(c)"
   ]
  },
  {
   "cell_type": "code",
   "execution_count": 5,
   "metadata": {},
   "outputs": [
    {
     "name": "stdout",
     "output_type": "stream",
     "text": [
      "[1, 2, 'ganesha', 'sunday', 4, [5, 8]]\n"
     ]
    },
    {
     "data": {
      "text/plain": [
       "list"
      ]
     },
     "execution_count": 5,
     "metadata": {},
     "output_type": "execute_result"
    }
   ],
   "source": [
    "l=[1,2,\"ganesha\",\"sunday\",4,[5,8]]\n",
    "print(l)\n",
    "type(l)"
   ]
  },
  {
   "cell_type": "code",
   "execution_count": 7,
   "metadata": {},
   "outputs": [
    {
     "name": "stdout",
     "output_type": "stream",
     "text": [
      "{1, 2, 3, 4, 5, 6, 8, 9}\n"
     ]
    },
    {
     "data": {
      "text/plain": [
       "set"
      ]
     },
     "execution_count": 7,
     "metadata": {},
     "output_type": "execute_result"
    }
   ],
   "source": [
    "g={1,9,3,8,4,4,5,6,2,2,3}\n",
    "print(g)\n",
    "type(g)"
   ]
  },
  {
   "cell_type": "code",
   "execution_count": 9,
   "metadata": {},
   "outputs": [
    {
     "name": "stdout",
     "output_type": "stream",
     "text": [
      "{'programming language': 'python', 'developed by': 'guido van rossum', 'year': 1991}\n"
     ]
    },
    {
     "data": {
      "text/plain": [
       "dict"
      ]
     },
     "execution_count": 9,
     "metadata": {},
     "output_type": "execute_result"
    }
   ],
   "source": [
    "d={\"programming language\":\"python\",\"developed by\":\"guido van rossum\",\"year\":1991}\n",
    "print(d)\n",
    "type(d)"
   ]
  },
  {
   "cell_type": "code",
   "execution_count": 11,
   "metadata": {},
   "outputs": [
    {
     "name": "stdout",
     "output_type": "stream",
     "text": [
      "(1, 2, 'chai', 'rashmi', (8, 5))\n"
     ]
    },
    {
     "data": {
      "text/plain": [
       "tuple"
      ]
     },
     "execution_count": 11,
     "metadata": {},
     "output_type": "execute_result"
    }
   ],
   "source": [
    "t=(1,2,\"chai\",\"rashmi\",(8,5))\n",
    "print(t)\n",
    "type(t)"
   ]
  },
  {
   "cell_type": "code",
   "execution_count": 14,
   "metadata": {},
   "outputs": [
    {
     "name": "stdout",
     "output_type": "stream",
     "text": [
      "False\n"
     ]
    },
    {
     "data": {
      "text/plain": [
       "bool"
      ]
     },
     "execution_count": 14,
     "metadata": {},
     "output_type": "execute_result"
    }
   ],
   "source": [
    "a=2\n",
    "b=3\n",
    "print(a==b)\n",
    "type(a==b)"
   ]
  },
  {
   "cell_type": "code",
   "execution_count": 15,
   "metadata": {},
   "outputs": [
    {
     "name": "stdout",
     "output_type": "stream",
     "text": [
      "(3+4j)\n"
     ]
    },
    {
     "data": {
      "text/plain": [
       "complex"
      ]
     },
     "execution_count": 15,
     "metadata": {},
     "output_type": "execute_result"
    }
   ],
   "source": [
    "a=3+4j\n",
    "print(a)\n",
    "type(a)"
   ]
  },
  {
   "cell_type": "markdown",
   "metadata": {},
   "source": [
    "# steps to create github profile"
   ]
  },
  {
   "cell_type": "markdown",
   "metadata": {},
   "source": [
    "1. go to github.com \n",
    "2. create your profile and if you have created sign in\n",
    "3. click on the new button and create new repository\n",
    "4. name it as letsupgrade AIML ,assignments and create it\n",
    "5. a folder  called letsupgrade AIML is created \n",
    "6. in that folder you can upload your notebooks \n",
    "7. drag the folder from your device and upload"
   ]
  },
  {
   "cell_type": "code",
   "execution_count": null,
   "metadata": {},
   "outputs": [],
   "source": []
  },
  {
   "cell_type": "code",
   "execution_count": null,
   "metadata": {},
   "outputs": [],
   "source": []
  }
 ],
 "metadata": {
  "kernelspec": {
   "display_name": "Python 3",
   "language": "python",
   "name": "python3"
  },
  "language_info": {
   "codemirror_mode": {
    "name": "ipython",
    "version": 3
   },
   "file_extension": ".py",
   "mimetype": "text/x-python",
   "name": "python",
   "nbconvert_exporter": "python",
   "pygments_lexer": "ipython3",
   "version": "3.7.6"
  }
 },
 "nbformat": 4,
 "nbformat_minor": 4
}
