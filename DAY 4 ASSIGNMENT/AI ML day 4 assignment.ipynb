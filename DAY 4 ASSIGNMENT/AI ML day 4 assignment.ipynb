{
 "cells": [
  {
   "cell_type": "markdown",
   "metadata": {},
   "source": [
    "1.Research on whether addition, subtraction, multiplication, division, floor division and modulo\n",
    "operations be performed on complex numbers. Based on your study, implement a Python program to demonstrate these operations."
   ]
  },
  {
   "cell_type": "code",
   "execution_count": 47,
   "metadata": {},
   "outputs": [
    {
     "name": "stdout",
     "output_type": "stream",
     "text": [
      "2+4j\n",
      "6+8j\n",
      "addition of two complex numbers a and b is= (8+12j)\n",
      "subtraction of two complex numbers a and b is= (-4-4j)\n",
      "multiplication of two complex numbers a and b is= (-20+40j)\n",
      "division of two complex numbers a and b is= (0.44+0.08j)\n"
     ]
    }
   ],
   "source": [
    "a=complex(input(\"\"))\n",
    "b=complex(input(\"\"))\n",
    "print(\"addition of two complex numbers a and b is=\",a+b)\n",
    "print(\"subtraction of two complex numbers a and b is=\",a-b)\n",
    "print(\"multiplication of two complex numbers a and b is=\",a*b)\n",
    "print(\"division of two complex numbers a and b is=\",a/b)"
   ]
  },
  {
   "cell_type": "markdown",
   "metadata": {},
   "source": [
    "A complex number is a number that can be expressed in the form of a+ib,where a and b are real numbers and i is a solution of the equation x^2=-1.Because no real number satisfies this equation , i is called a imaginary number. Floor division and modulo operators cannot be performed on complex numbers because it will give type error."
   ]
  },
  {
   "cell_type": "markdown",
   "metadata": {},
   "source": [
    "2.Research on range() functions and its parameters. Create a markdown cell and write in your own\n",
    "words (no copy-paste from google please) what you understand about it. Implement a small\n",
    "program of your choice on the same."
   ]
  },
  {
   "cell_type": "markdown",
   "metadata": {},
   "source": [
    "range() function is a default function in python.range() function prints all the numbers in the range of 0 to n-1or from first index to last index-1\n",
    "for eg: range(0,10) ,it prints all the numbers from 0 to 9 "
   ]
  },
  {
   "cell_type": "code",
   "execution_count": 62,
   "metadata": {},
   "outputs": [
    {
     "name": "stdout",
     "output_type": "stream",
     "text": [
      "0\n",
      "1\n",
      "2\n",
      "3\n",
      "4\n",
      "5\n",
      "6\n",
      "7\n",
      "8\n",
      "9\n"
     ]
    }
   ],
   "source": [
    "for i in range(0,10):\n",
    "        print(i)"
   ]
  },
  {
   "cell_type": "markdown",
   "metadata": {},
   "source": [
    "3.CONSIDER TWO NUMBERS,PERFORM THEIR SUBTRACTION AND IF THE RESULT OF SUBTRACTION IS GREATER THAN 25,PRINT THEIR MULTIPLICATION RESULT ELSE PRINT DIVISION RESULT"
   ]
  },
  {
   "cell_type": "code",
   "execution_count": 6,
   "metadata": {},
   "outputs": [
    {
     "name": "stdout",
     "output_type": "stream",
     "text": [
      "multiplication of a and b is= 5400\n"
     ]
    }
   ],
   "source": [
    "a=90\n",
    "b=60\n",
    "a-b\n",
    "if a-b>25:\n",
    "    print(\"multiplication of a and b is=\",a*b)\n",
    "else:\n",
    "    print(\"division of a and b is=\",a/b)\n",
    "    "
   ]
  },
  {
   "cell_type": "markdown",
   "metadata": {},
   "source": [
    "4.CONSIDER A LIST OF 10 ELEMENTS OF INTEGER VALUES.IF THE NUMBER IN THE LIST IS DIVISIBLE BY 2,PRINT THE RESULT AS \"SQUARE OF THAT NUMBER MINUS 2\""
   ]
  },
  {
   "cell_type": "code",
   "execution_count": 24,
   "metadata": {},
   "outputs": [
    {
     "name": "stdout",
     "output_type": "stream",
     "text": [
      "square of 2 is 4 and 4 minus 2 is= 2\n",
      "square of -4 is 16 and 16 minus 2 is= 14\n",
      "square of 6 is 36 and 36 minus 2 is= 34\n",
      "square of 4 is 16 and 16 minus 2 is= 14\n"
     ]
    }
   ],
   "source": [
    "l=[1,2,3,-4,-5,-3,5,6,9,4]\n",
    "for i in l:\n",
    "    if (i%2==0):\n",
    "        print(\"square of\",i,\"is\",i**2,\"and\",i**2,\"minus 2 is=\",i**2-2)"
   ]
  },
  {
   "cell_type": "markdown",
   "metadata": {},
   "source": [
    "5.CONSIDER A LIST OF 10 ELEMENTS.PRINT ALL THE ELEMENTS IN THE LIST WHICH ARE GREATER THAN 7 WHEN THAT NUMBER IS DIVIDED BY 2"
   ]
  },
  {
   "cell_type": "code",
   "execution_count": 63,
   "metadata": {},
   "outputs": [
    {
     "name": "stdout",
     "output_type": "stream",
     "text": [
      "50\n",
      "42\n",
      "66\n",
      "34\n",
      "76\n"
     ]
    }
   ],
   "source": [
    "l=[1,2,3,8,9,50,42,66,34,76]\n",
    "for i in l:\n",
    "    if (i/2>7):\n",
    "        print(i)"
   ]
  },
  {
   "cell_type": "code",
   "execution_count": null,
   "metadata": {},
   "outputs": [],
   "source": []
  }
 ],
 "metadata": {
  "kernelspec": {
   "display_name": "Python 3",
   "language": "python",
   "name": "python3"
  },
  "language_info": {
   "codemirror_mode": {
    "name": "ipython",
    "version": 3
   },
   "file_extension": ".py",
   "mimetype": "text/x-python",
   "name": "python",
   "nbconvert_exporter": "python",
   "pygments_lexer": "ipython3",
   "version": "3.7.6"
  }
 },
 "nbformat": 4,
 "nbformat_minor": 4
}
