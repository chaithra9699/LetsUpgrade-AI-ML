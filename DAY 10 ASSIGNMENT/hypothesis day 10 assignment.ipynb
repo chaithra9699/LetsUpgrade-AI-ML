{
 "cells": [
  {
   "cell_type": "code",
   "execution_count": 1,
   "metadata": {},
   "outputs": [
    {
     "data": {
      "text/html": [
       "<div>\n",
       "<style scoped>\n",
       "    .dataframe tbody tr th:only-of-type {\n",
       "        vertical-align: middle;\n",
       "    }\n",
       "\n",
       "    .dataframe tbody tr th {\n",
       "        vertical-align: top;\n",
       "    }\n",
       "\n",
       "    .dataframe thead th {\n",
       "        text-align: right;\n",
       "    }\n",
       "</style>\n",
       "<table border=\"1\" class=\"dataframe\">\n",
       "  <thead>\n",
       "    <tr style=\"text-align: right;\">\n",
       "      <th></th>\n",
       "      <th>MonthlyIncome</th>\n",
       "      <th>YearsAtCompany</th>\n",
       "      <th>Age</th>\n",
       "      <th>DistanceFromHome</th>\n",
       "      <th>PercentSalaryHike</th>\n",
       "      <th>JobLevel</th>\n",
       "      <th>NumCompaniesWorked</th>\n",
       "      <th>TotalWorkingYears</th>\n",
       "      <th>YearsSinceLastPromotion</th>\n",
       "      <th>TrainingTimesLastYear</th>\n",
       "    </tr>\n",
       "  </thead>\n",
       "  <tbody>\n",
       "    <tr>\n",
       "      <th>count</th>\n",
       "      <td>4410.000000</td>\n",
       "      <td>4410.000000</td>\n",
       "      <td>4410.000000</td>\n",
       "      <td>4410.000000</td>\n",
       "      <td>4410.000000</td>\n",
       "      <td>4410.000000</td>\n",
       "      <td>4391.000000</td>\n",
       "      <td>4401.000000</td>\n",
       "      <td>4410.000000</td>\n",
       "      <td>4410.000000</td>\n",
       "    </tr>\n",
       "    <tr>\n",
       "      <th>mean</th>\n",
       "      <td>65029.312925</td>\n",
       "      <td>7.008163</td>\n",
       "      <td>36.923810</td>\n",
       "      <td>9.192517</td>\n",
       "      <td>15.209524</td>\n",
       "      <td>2.063946</td>\n",
       "      <td>2.694830</td>\n",
       "      <td>11.279936</td>\n",
       "      <td>2.187755</td>\n",
       "      <td>2.799320</td>\n",
       "    </tr>\n",
       "    <tr>\n",
       "      <th>std</th>\n",
       "      <td>47068.888559</td>\n",
       "      <td>6.125135</td>\n",
       "      <td>9.133301</td>\n",
       "      <td>8.105026</td>\n",
       "      <td>3.659108</td>\n",
       "      <td>1.106689</td>\n",
       "      <td>2.498887</td>\n",
       "      <td>7.782222</td>\n",
       "      <td>3.221699</td>\n",
       "      <td>1.288978</td>\n",
       "    </tr>\n",
       "    <tr>\n",
       "      <th>min</th>\n",
       "      <td>10090.000000</td>\n",
       "      <td>0.000000</td>\n",
       "      <td>18.000000</td>\n",
       "      <td>1.000000</td>\n",
       "      <td>11.000000</td>\n",
       "      <td>1.000000</td>\n",
       "      <td>0.000000</td>\n",
       "      <td>0.000000</td>\n",
       "      <td>0.000000</td>\n",
       "      <td>0.000000</td>\n",
       "    </tr>\n",
       "    <tr>\n",
       "      <th>25%</th>\n",
       "      <td>29110.000000</td>\n",
       "      <td>3.000000</td>\n",
       "      <td>30.000000</td>\n",
       "      <td>2.000000</td>\n",
       "      <td>12.000000</td>\n",
       "      <td>1.000000</td>\n",
       "      <td>1.000000</td>\n",
       "      <td>6.000000</td>\n",
       "      <td>0.000000</td>\n",
       "      <td>2.000000</td>\n",
       "    </tr>\n",
       "    <tr>\n",
       "      <th>50%</th>\n",
       "      <td>49190.000000</td>\n",
       "      <td>5.000000</td>\n",
       "      <td>36.000000</td>\n",
       "      <td>7.000000</td>\n",
       "      <td>14.000000</td>\n",
       "      <td>2.000000</td>\n",
       "      <td>2.000000</td>\n",
       "      <td>10.000000</td>\n",
       "      <td>1.000000</td>\n",
       "      <td>3.000000</td>\n",
       "    </tr>\n",
       "    <tr>\n",
       "      <th>75%</th>\n",
       "      <td>83800.000000</td>\n",
       "      <td>9.000000</td>\n",
       "      <td>43.000000</td>\n",
       "      <td>14.000000</td>\n",
       "      <td>18.000000</td>\n",
       "      <td>3.000000</td>\n",
       "      <td>4.000000</td>\n",
       "      <td>15.000000</td>\n",
       "      <td>3.000000</td>\n",
       "      <td>3.000000</td>\n",
       "    </tr>\n",
       "    <tr>\n",
       "      <th>max</th>\n",
       "      <td>199990.000000</td>\n",
       "      <td>40.000000</td>\n",
       "      <td>60.000000</td>\n",
       "      <td>29.000000</td>\n",
       "      <td>25.000000</td>\n",
       "      <td>5.000000</td>\n",
       "      <td>9.000000</td>\n",
       "      <td>40.000000</td>\n",
       "      <td>15.000000</td>\n",
       "      <td>6.000000</td>\n",
       "    </tr>\n",
       "  </tbody>\n",
       "</table>\n",
       "</div>"
      ],
      "text/plain": [
       "       MonthlyIncome  YearsAtCompany          Age  DistanceFromHome  \\\n",
       "count    4410.000000     4410.000000  4410.000000       4410.000000   \n",
       "mean    65029.312925        7.008163    36.923810          9.192517   \n",
       "std     47068.888559        6.125135     9.133301          8.105026   \n",
       "min     10090.000000        0.000000    18.000000          1.000000   \n",
       "25%     29110.000000        3.000000    30.000000          2.000000   \n",
       "50%     49190.000000        5.000000    36.000000          7.000000   \n",
       "75%     83800.000000        9.000000    43.000000         14.000000   \n",
       "max    199990.000000       40.000000    60.000000         29.000000   \n",
       "\n",
       "       PercentSalaryHike     JobLevel  NumCompaniesWorked  TotalWorkingYears  \\\n",
       "count        4410.000000  4410.000000         4391.000000        4401.000000   \n",
       "mean           15.209524     2.063946            2.694830          11.279936   \n",
       "std             3.659108     1.106689            2.498887           7.782222   \n",
       "min            11.000000     1.000000            0.000000           0.000000   \n",
       "25%            12.000000     1.000000            1.000000           6.000000   \n",
       "50%            14.000000     2.000000            2.000000          10.000000   \n",
       "75%            18.000000     3.000000            4.000000          15.000000   \n",
       "max            25.000000     5.000000            9.000000          40.000000   \n",
       "\n",
       "       YearsSinceLastPromotion  TrainingTimesLastYear  \n",
       "count              4410.000000            4410.000000  \n",
       "mean                  2.187755               2.799320  \n",
       "std                   3.221699               1.288978  \n",
       "min                   0.000000               0.000000  \n",
       "25%                   0.000000               2.000000  \n",
       "50%                   1.000000               3.000000  \n",
       "75%                   3.000000               3.000000  \n",
       "max                  15.000000               6.000000  "
      ]
     },
     "execution_count": 1,
     "metadata": {},
     "output_type": "execute_result"
    }
   ],
   "source": [
    "import pandas as pd\n",
    "dataset=pd.read_csv(\"general_data.csv\")\n",
    "dataset[['MonthlyIncome','YearsAtCompany','Age','DistanceFromHome','PercentSalaryHike','JobLevel','NumCompaniesWorked','TotalWorkingYears','YearsSinceLastPromotion','TrainingTimesLastYear']].describe()"
   ]
  },
  {
   "cell_type": "markdown",
   "metadata": {},
   "source": [
    "Hypothesis 1 Statement:- The average age of employee in a company is 35 with standard deviation 10.A reasearcher believes that if age is less than 35 there is higher attrition rate. Taking a sample of 50 employee with average age being 37 and level of significance is 0.05."
   ]
  },
  {
   "cell_type": "markdown",
   "metadata": {},
   "source": [
    "Hypothesis 2 Statement:- The average distance of employees from worklocation to home is 9 with standard deviation 15.A reasearcher believe that if distance from home is greater than 9 higher attrition is observed.Taking a sample of 50 employees with average distance being 10 and level of significance is 0.01."
   ]
  },
  {
   "cell_type": "markdown",
   "metadata": {},
   "source": [
    "Hypothesis 3 Statement:- The average years at company of employees is 7.A reasearcher believe that if an employee has an experience of more than 7 years there is higher attrition.Taking a sample of 75 employees with average experience of 9 years and standard deviation is 5."
   ]
  },
  {
   "cell_type": "code",
   "execution_count": 3,
   "metadata": {},
   "outputs": [
    {
     "data": {
      "text/plain": [
       "369"
      ]
     },
     "execution_count": 3,
     "metadata": {},
     "output_type": "execute_result"
    }
   ],
   "source": [
    "temp=dataset[dataset['Attrition']=='Yes']\n",
    "temp[temp.PercentSalaryHike<15].PercentSalaryHike.value_counts().sum()"
   ]
  },
  {
   "cell_type": "markdown",
   "metadata": {},
   "source": [
    "Hypothesis 4 Statement:- The average percentsalaryhike of employee is 15 with standard deviation of 12.A researcher believe that if percentsalaryhike is less than 15 there is higher attrition.Taking a sample of 100employees and percentsalaryhike is 14."
   ]
  },
  {
   "cell_type": "markdown",
   "metadata": {},
   "source": [
    "Hypothesis 5 Statement:-The average monthly income of employees is 65000.A researcher believes that if monthly income is less than 65000 higher attrition occured.Taking a sample of 75 employees with average monthly income is 60000 and standard deviation is 30000."
   ]
  },
  {
   "cell_type": "markdown",
   "metadata": {},
   "source": [
    "\n",
    "Hypotheis 6 Statement:-The average level of employees is 2 with standard deviation 2.A reasearcher believes that if level is less than 2 higher attrition has been observed.Taking a sample of 50employees with average level 3."
   ]
  },
  {
   "cell_type": "markdown",
   "metadata": {},
   "source": [
    "Hypothesis 7 Statement:-The average no of companies worked by an employee is 2.The reasearcher believes that if no of companies worked by an employee is more than 2 higher attrition occured.Taking a sample of 100 employees with average companies worked is 3 and standard deviation is 2."
   ]
  },
  {
   "cell_type": "markdown",
   "metadata": {},
   "source": [
    "Hypothesis 8 Statement:-The average total working years of employees is 11 with standard deviation 4.The researcher believes that if total working years of employee is more than 11 years higher attrition has been observed.Taking a sample of 200 employees with average total working years of employee is 10."
   ]
  },
  {
   "cell_type": "markdown",
   "metadata": {},
   "source": [
    "\n",
    "Hypothesis 9 Statement:- The average yearsSinceLastPromotion of employees is 2 with standard deviation 2.The researcher believes that if yearsSinceLastPromotion of employee is more than 2 years higher attrition has occured.Taking a sample of 100 employees with average yearsSinceLastPromotion is 3."
   ]
  },
  {
   "cell_type": "markdown",
   "metadata": {},
   "source": [
    "Hypothesis 10 Statement:-The average TrainingTimesLastYear of employees is 2.The researcher believes that if trainingTimesLastYear of employee is more than 2 higher attrition rate has been observed.Taking a sample of 100 employees with average TrainingTimesLastYear of employees is 3 with standard deviation of 2."
   ]
  }
 ],
 "metadata": {
  "kernelspec": {
   "display_name": "Python 3",
   "language": "python",
   "name": "python3"
  },
  "language_info": {
   "codemirror_mode": {
    "name": "ipython",
    "version": 3
   },
   "file_extension": ".py",
   "mimetype": "text/x-python",
   "name": "python",
   "nbconvert_exporter": "python",
   "pygments_lexer": "ipython3",
   "version": "3.7.6"
  }
 },
 "nbformat": 4,
 "nbformat_minor": 4
}
