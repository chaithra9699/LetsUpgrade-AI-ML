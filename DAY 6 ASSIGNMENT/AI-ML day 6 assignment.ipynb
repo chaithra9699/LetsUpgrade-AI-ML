{
 "cells": [
  {
   "cell_type": "markdown",
   "metadata": {},
   "source": [
    "1.Assuming that we have some email addresses in the \"username@companyname.com\" format, please write program\n",
    "to print the company name of a given email address. Both user names and company names are composed of letters\n",
    "only.\n",
    "Input Format:\n",
    "The first line of the input contains an email address.\n",
    "Output Format:\n",
    "Print the company name in single line.\n",
    "Example;\n",
    "Input:\n",
    "john@google.com\n",
    "Output:\n",
    "google"
   ]
  },
  {
   "cell_type": "code",
   "execution_count": 7,
   "metadata": {},
   "outputs": [
    {
     "name": "stdout",
     "output_type": "stream",
     "text": [
      "email adress is=chai@facebook.com\n"
     ]
    },
    {
     "data": {
      "text/plain": [
       "'facebook'"
      ]
     },
     "execution_count": 7,
     "metadata": {},
     "output_type": "execute_result"
    }
   ],
   "source": [
    "def getname(s):\n",
    "    try:\n",
    "        return s.replace(\"@\",\".\").split(\".\")[1]\n",
    "    except:\n",
    "        print(\"something wrong\")\n",
    "getname(input(\"email adress is=\")) \n",
    "        "
   ]
  },
  {
   "cell_type": "markdown",
   "metadata": {},
   "source": [
    "2.Write a program that accepts a comma-separated sequence of words as input and prints the words in a comma\n",
    "separated sequence after sorting them alphabetically.\n",
    "Input Format:\n",
    "The first line of input contains words separated by the comma.\n",
    "Output Format:\n",
    "Print the sorted words separated by the comma.\n",
    "Example:\n",
    "Input:\n",
    "without,hello,bag,world\n",
    "Output:\n",
    "bag,hello,without,world"
   ]
  },
  {
   "cell_type": "code",
   "execution_count": 28,
   "metadata": {},
   "outputs": [
    {
     "name": "stdout",
     "output_type": "stream",
     "text": [
      "enter sequence of words zebra,rabbit,apple,orange,cat\n",
      "sorted sequence of words are:  apple,cat,orange,rabbit,zebra\n"
     ]
    }
   ],
   "source": [
    "names=input(\"enter sequence of words \")\n",
    "words=list(map(lambda x:x,names.split(',')))\n",
    "words.sort()\n",
    "print(\"sorted sequence of words are: \", ','.join(words))"
   ]
  },
  {
   "cell_type": "markdown",
   "metadata": {},
   "source": [
    "# 3.SETS\n",
    "A set is an unordered collection data type that is iterable,mutable and has no duplicate elements. "
   ]
  },
  {
   "cell_type": "code",
   "execution_count": 60,
   "metadata": {},
   "outputs": [
    {
     "name": "stdout",
     "output_type": "stream",
     "text": [
      "{1, 2, 3, 4, 5, 'abc', 'chai', 'vinu'}\n"
     ]
    },
    {
     "data": {
      "text/plain": [
       "set"
      ]
     },
     "execution_count": 60,
     "metadata": {},
     "output_type": "execute_result"
    }
   ],
   "source": [
    "myset={1,2,3,4,5,5,\"abc\",\"chai\",\"vinu\"}\n",
    "print(myset)\n",
    "type(myset)"
   ]
  },
  {
   "cell_type": "code",
   "execution_count": 61,
   "metadata": {},
   "outputs": [
    {
     "name": "stdout",
     "output_type": "stream",
     "text": [
      "{1, 2, 3, 4, 5, 'abc', 'chai', 'vinu', 'ganesha'}\n",
      "{1, 2, 3, 4, 5, 'abc', 'chai', 'vinu', 'ganesha'}\n",
      "1\n",
      "{2, 3, 4, 5, 'abc', 'chai', 'vinu', 'ganesha'}\n",
      "{2, 3, 5, 'abc', 'chai', 'vinu', 'ganesha'}\n",
      "{2, 3, 5, 'abc', 'chai', 'vinu', 'ganesha'}\n",
      "set()\n"
     ]
    }
   ],
   "source": [
    "myset.add(\"ganesha\")\n",
    "print(myset)\n",
    "a=myset.copy()\n",
    "print(a)\n",
    "print(myset.pop())\n",
    "print(myset)\n",
    "myset.remove(4)\n",
    "print(myset)\n",
    "myset.update()\n",
    "print(myset)\n",
    "myset.clear()\n",
    "print(myset)\n"
   ]
  },
  {
   "cell_type": "code",
   "execution_count": 12,
   "metadata": {},
   "outputs": [
    {
     "name": "stdout",
     "output_type": "stream",
     "text": [
      "{1, 2, 'naveen'}\n",
      "{3, 4, 'chai'}\n",
      "{1, 2, 'naveen'}\n",
      "{2, 'naveen'}\n"
     ]
    }
   ],
   "source": [
    "s1={1,2,3,4,\"chai\",\"naveen\"}\n",
    "s2={3,4,\"chai\"}\n",
    "s1=s1.difference(s2)\n",
    "s2=s2.difference(s1)\n",
    "print(s1)\n",
    "print(s2)\n",
    "s1.difference_update(s2)\n",
    "print(s1)\n",
    "s1.discard(1)\n",
    "print(s1)"
   ]
  },
  {
   "cell_type": "code",
   "execution_count": 14,
   "metadata": {},
   "outputs": [
    {
     "name": "stdout",
     "output_type": "stream",
     "text": [
      "False\n"
     ]
    }
   ],
   "source": [
    "s1={1,2,3,4,5}\n",
    "s2={2,3,4,8}\n",
    "a=s1.isdisjoint(s2)\n",
    "print(a)\n"
   ]
  },
  {
   "cell_type": "code",
   "execution_count": 15,
   "metadata": {},
   "outputs": [
    {
     "name": "stdout",
     "output_type": "stream",
     "text": [
      "True\n"
     ]
    }
   ],
   "source": [
    "s1={1,2,3,4}\n",
    "s2={5,6,7,8}\n",
    "b=s1.isdisjoint(s2)\n",
    "print(b)"
   ]
  },
  {
   "cell_type": "code",
   "execution_count": 17,
   "metadata": {},
   "outputs": [
    {
     "name": "stdout",
     "output_type": "stream",
     "text": [
      "False\n",
      "True\n"
     ]
    }
   ],
   "source": [
    "s1={\"chai\",5,6,7,\"navi\"}\n",
    "s2={5,6,7}\n",
    "print(s1.issubset(s2))\n",
    "print(s2.issubset(s1))"
   ]
  },
  {
   "cell_type": "code",
   "execution_count": 20,
   "metadata": {},
   "outputs": [
    {
     "name": "stdout",
     "output_type": "stream",
     "text": [
      "True\n",
      "False\n"
     ]
    }
   ],
   "source": [
    "s1={2,3,4,\"hat\",\"chocolate\",5,8}\n",
    "s2={2,3,4,\"hat\"}\n",
    "print(s1.issuperset(s2))\n",
    "print(s2.issuperset(s1))"
   ]
  },
  {
   "cell_type": "markdown",
   "metadata": {},
   "source": [
    "4.Given a list of n-1 numbers ranging from 1 to n, your task is to find the missing number. There are no duplicates.\n",
    "Input Format:\n",
    "The first line contains n-1 numbers with each number separated by a space.\n",
    "Output Format:\n",
    "Print the missing number\n",
    "Example:\n",
    "Input:1 2 4 6 3 7 8\n",
    "Output:5\n",
    "Explanation:\n",
    "In the above list of numbers 5 is missing and hence 5 is the input"
   ]
  },
  {
   "cell_type": "code",
   "execution_count": 43,
   "metadata": {},
   "outputs": [
    {
     "name": "stdout",
     "output_type": "stream",
     "text": [
      "the missing number is: 4\n"
     ]
    }
   ],
   "source": [
    "lst=[1,2,3,5,6,7,8,9]\n",
    "for i in range(1,lst[-1]+1):\n",
    "    if i not in lst:\n",
    "        print(\"the missing number is:\",i)\n"
   ]
  },
  {
   "cell_type": "markdown",
   "metadata": {},
   "source": [
    "5.With a given list L, write a program to print this list L after removing all duplicate values with original order reserved.\n",
    "Example:\n",
    "If the input list is\n",
    "12 24 35 24 88 120 155 88 120 155\n",
    "Then the output should be\n",
    "12 24 35 88 120 155\n",
    "Explanation:\n",
    "Third, seventh and ninth element of the list L has been removed because it was already present.\n",
    "Input Format:\n",
    "In one line take the elements of the list L with each element separated by a space.\n",
    "Output Format:\n",
    "Print the elements of the modified list in one line with each element separated by a space.\n",
    "Example:\n",
    "Input: 12 24 35 24\n",
    "Output:\n",
    "12 24 35"
   ]
  },
  {
   "cell_type": "code",
   "execution_count": 10,
   "metadata": {},
   "outputs": [
    {
     "name": "stdout",
     "output_type": "stream",
     "text": [
      "[1, 2, 3, 4, 5, 6, 7, 8]\n"
     ]
    }
   ],
   "source": [
    "duplicate=[1,2,3,3,4,5,4,6,7,8,6]\n",
    "print(list(set(duplicate)))\n"
   ]
  },
  {
   "cell_type": "code",
   "execution_count": 15,
   "metadata": {},
   "outputs": [
    {
     "name": "stdout",
     "output_type": "stream",
     "text": [
      "[12, 24, 35, 56, 78]\n"
     ]
    }
   ],
   "source": [
    "def Remove(duplicate): \n",
    "    final_list = [] \n",
    "    for num in duplicate: \n",
    "        if num not in final_list: \n",
    "            final_list.append(num) \n",
    "    return final_list \n",
    "duplicate = [12,24,35,24,56,78,56] \n",
    "print(Remove(duplicate)) \n"
   ]
  }
 ],
 "metadata": {
  "kernelspec": {
   "display_name": "Python 3",
   "language": "python",
   "name": "python3"
  },
  "language_info": {
   "codemirror_mode": {
    "name": "ipython",
    "version": 3
   },
   "file_extension": ".py",
   "mimetype": "text/x-python",
   "name": "python",
   "nbconvert_exporter": "python",
   "pygments_lexer": "ipython3",
   "version": "3.7.6"
  }
 },
 "nbformat": 4,
 "nbformat_minor": 4
}
